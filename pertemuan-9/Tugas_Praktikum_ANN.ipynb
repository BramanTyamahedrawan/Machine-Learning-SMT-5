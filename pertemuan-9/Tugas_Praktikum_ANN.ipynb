{
  "nbformat": 4,
  "nbformat_minor": 0,
  "metadata": {
    "colab": {
      "provenance": [],
      "authorship_tag": "ABX9TyM2VjTFkYirZw4nMsNMbpxl",
      "include_colab_link": true
    },
    "kernelspec": {
      "name": "python3",
      "display_name": "Python 3"
    },
    "language_info": {
      "name": "python"
    }
  },
  "cells": [
    {
      "cell_type": "markdown",
      "metadata": {
        "id": "view-in-github",
        "colab_type": "text"
      },
      "source": [
        "<a href=\"https://colab.research.google.com/github/BramanTyamahedrawan/Machine-Learning-SMT-5/blob/main/pertemuan-9/Tugas_Praktikum_ANN.ipynb\" target=\"_parent\"><img src=\"https://colab.research.google.com/assets/colab-badge.svg\" alt=\"Open In Colab\"/></a>"
      ]
    },
    {
      "cell_type": "markdown",
      "source": [
        "KELOMPOK 2\n",
        "1. Braman Tyamahendrawan (04)\n",
        "2. Dimas Putra Anhar W.A. (05)\n",
        "3. Fikril Hadad Ramadhani (07)\n",
        "4. Muhammad Maulana Givari (18)\n",
        "5. Muhammad Sabilar Rosyad (19)\n",
        "6. Satria Yudhistira Yudha P. (26)"
      ],
      "metadata": {
        "id": "YQvYW6e7mipl"
      }
    },
    {
      "cell_type": "markdown",
      "source": [
        "# Import Library"
      ],
      "metadata": {
        "id": "n46Ke8rfnFOM"
      }
    },
    {
      "cell_type": "code",
      "execution_count": 1,
      "metadata": {
        "id": "vWG4Jnspmf5k"
      },
      "outputs": [],
      "source": [
        "import tensorflow as tf\n",
        "from tensorflow import keras\n",
        "from tensorflow.keras import layers\n",
        "import matplotlib.pyplot as plt"
      ]
    },
    {
      "cell_type": "markdown",
      "source": [
        "# Muat data MNIST"
      ],
      "metadata": {
        "id": "QStLmicdnJWb"
      }
    },
    {
      "cell_type": "code",
      "source": [
        "mnist = keras.datasets.mnist\n",
        "(train_images, train_labels), (test_images, test_labels) = mnist.load_data()"
      ],
      "metadata": {
        "colab": {
          "base_uri": "https://localhost:8080/"
        },
        "id": "EVQm0bcanMDF",
        "outputId": "f0848217-3440-45fb-db42-6dd44726bf80"
      },
      "execution_count": 2,
      "outputs": [
        {
          "output_type": "stream",
          "name": "stdout",
          "text": [
            "Downloading data from https://storage.googleapis.com/tensorflow/tf-keras-datasets/mnist.npz\n",
            "11490434/11490434 [==============================] - 1s 0us/step\n"
          ]
        }
      ]
    },
    {
      "cell_type": "markdown",
      "source": [
        "# Pra Pengolahan Data"
      ],
      "metadata": {
        "id": "-IS_si-znOLG"
      }
    },
    {
      "cell_type": "code",
      "source": [
        "train_images = train_images.reshape(-1, 28*28)\n",
        "test_images = test_images.reshape(-1, 28*28)"
      ],
      "metadata": {
        "id": "yUXOCEiGnQtG"
      },
      "execution_count": 3,
      "outputs": []
    },
    {
      "cell_type": "code",
      "source": [
        "train_images = train_images / 255.0\n",
        "test_images = test_images / 255.0"
      ],
      "metadata": {
        "id": "u6iG_PwUnSl_"
      },
      "execution_count": 4,
      "outputs": []
    },
    {
      "cell_type": "markdown",
      "source": [
        "# Arsitektur ANN"
      ],
      "metadata": {
        "id": "aXwLN9QunURf"
      }
    },
    {
      "cell_type": "code",
      "source": [
        "model = keras.Sequential([\n",
        "    layers.Dense(128, activation='relu', input_shape=(784,)),\n",
        "    layers.Dense(64, activation='relu'),\n",
        "    layers.Dense(10, activation='softmax')\n",
        "])"
      ],
      "metadata": {
        "id": "9CFJl8f4nX0X"
      },
      "execution_count": 5,
      "outputs": []
    },
    {
      "cell_type": "markdown",
      "source": [
        "# Kompilasi Model"
      ],
      "metadata": {
        "id": "Xrt4wYKvnZPY"
      }
    },
    {
      "cell_type": "code",
      "source": [
        "model.compile(optimizer='adam',\n",
        "              loss='sparse_categorical_crossentropy',\n",
        "              metrics=['accuracy'])\n"
      ],
      "metadata": {
        "id": "hYb_XCWHnbVY"
      },
      "execution_count": 6,
      "outputs": []
    },
    {
      "cell_type": "markdown",
      "source": [
        "# Pelatihan Model"
      ],
      "metadata": {
        "id": "KcwoXjygnctH"
      }
    },
    {
      "cell_type": "code",
      "source": [
        "model.fit(train_images, train_labels, epochs=10, validation_split=0.2)"
      ],
      "metadata": {
        "colab": {
          "base_uri": "https://localhost:8080/"
        },
        "id": "1f9hsa8VnelX",
        "outputId": "32cd6af3-744f-42c1-fe14-a504e3138f44"
      },
      "execution_count": 7,
      "outputs": [
        {
          "output_type": "stream",
          "name": "stdout",
          "text": [
            "Epoch 1/10\n",
            "1500/1500 [==============================] - 13s 7ms/step - loss: 0.2667 - accuracy: 0.9212 - val_loss: 0.1381 - val_accuracy: 0.9581\n",
            "Epoch 2/10\n",
            "1500/1500 [==============================] - 7s 5ms/step - loss: 0.1118 - accuracy: 0.9660 - val_loss: 0.1027 - val_accuracy: 0.9701\n",
            "Epoch 3/10\n",
            "1500/1500 [==============================] - 8s 5ms/step - loss: 0.0760 - accuracy: 0.9764 - val_loss: 0.0848 - val_accuracy: 0.9734\n",
            "Epoch 4/10\n",
            "1500/1500 [==============================] - 6s 4ms/step - loss: 0.0563 - accuracy: 0.9819 - val_loss: 0.0886 - val_accuracy: 0.9739\n",
            "Epoch 5/10\n",
            "1500/1500 [==============================] - 9s 6ms/step - loss: 0.0443 - accuracy: 0.9853 - val_loss: 0.1014 - val_accuracy: 0.9705\n",
            "Epoch 6/10\n",
            "1500/1500 [==============================] - 14s 9ms/step - loss: 0.0362 - accuracy: 0.9885 - val_loss: 0.0914 - val_accuracy: 0.9752\n",
            "Epoch 7/10\n",
            "1500/1500 [==============================] - 7s 5ms/step - loss: 0.0295 - accuracy: 0.9904 - val_loss: 0.1053 - val_accuracy: 0.9728\n",
            "Epoch 8/10\n",
            "1500/1500 [==============================] - 10s 7ms/step - loss: 0.0249 - accuracy: 0.9920 - val_loss: 0.1076 - val_accuracy: 0.9736\n",
            "Epoch 9/10\n",
            "1500/1500 [==============================] - 10s 7ms/step - loss: 0.0221 - accuracy: 0.9925 - val_loss: 0.1133 - val_accuracy: 0.9743\n",
            "Epoch 10/10\n",
            "1500/1500 [==============================] - 11s 8ms/step - loss: 0.0179 - accuracy: 0.9940 - val_loss: 0.1190 - val_accuracy: 0.9728\n"
          ]
        },
        {
          "output_type": "execute_result",
          "data": {
            "text/plain": [
              "<keras.src.callbacks.History at 0x7a774d7e1270>"
            ]
          },
          "metadata": {},
          "execution_count": 7
        }
      ]
    },
    {
      "cell_type": "markdown",
      "source": [
        "# Evaluasi Model"
      ],
      "metadata": {
        "id": "WDKvq255ngOg"
      }
    },
    {
      "cell_type": "code",
      "source": [
        "test_loss, test_accuracy = model.evaluate(test_images, test_labels)\n",
        "print(\"Test accuracy: {:.4f}\".format(test_accuracy))"
      ],
      "metadata": {
        "colab": {
          "base_uri": "https://localhost:8080/"
        },
        "id": "DEqDXYaRniis",
        "outputId": "d8883779-6711-4fad-852f-b3e251e4590c"
      },
      "execution_count": 8,
      "outputs": [
        {
          "output_type": "stream",
          "name": "stdout",
          "text": [
            "313/313 [==============================] - 1s 2ms/step - loss: 0.0979 - accuracy: 0.9761\n",
            "Test accuracy: 0.9761\n"
          ]
        }
      ]
    },
    {
      "cell_type": "markdown",
      "source": [
        "# Confusion Matrix"
      ],
      "metadata": {
        "id": "8g5robVKni3x"
      }
    },
    {
      "cell_type": "code",
      "source": [
        "from sklearn.metrics import confusion_matrix\n",
        "\n",
        "predicted_labels = model.predict(test_images)\n",
        "predicted_labels = [tf.argmax(label).numpy() for label in predicted_labels]\n",
        "\n",
        "confusion = confusion_matrix(test_labels, predicted_labels)\n",
        "print(confusion)"
      ],
      "metadata": {
        "colab": {
          "base_uri": "https://localhost:8080/"
        },
        "id": "gHbrubM1nqO4",
        "outputId": "2011f40e-f229-491d-da4b-213de35de860"
      },
      "execution_count": 9,
      "outputs": [
        {
          "output_type": "stream",
          "name": "stdout",
          "text": [
            "313/313 [==============================] - 1s 2ms/step\n",
            "[[ 969    1    1    1    0    0    2    1    3    2]\n",
            " [   0 1124    4    1    0    0    3    0    3    0]\n",
            " [   3    0 1012    6    1    0    0    5    5    0]\n",
            " [   0    0    3  979    0   11    0    5   12    0]\n",
            " [   1    0    4    0  941    2    3    5    1   25]\n",
            " [   2    0    0   13    0  863    3    0    9    2]\n",
            " [   6    2    1    1    5    3  936    0    4    0]\n",
            " [   0    5    6    4    0    0    0 1005    2    6]\n",
            " [   1    0    5    6    1    2    1    7  949    2]\n",
            " [   2    2    0    5    4    5    0    4    4  983]]\n"
          ]
        }
      ]
    },
    {
      "cell_type": "markdown",
      "source": [
        "# Hasil Yang Saya Dapatkan"
      ],
      "metadata": {
        "id": "FtI2xF3Xnqqz"
      }
    },
    {
      "cell_type": "markdown",
      "source": [
        "**Konfigurasi model**\n",
        "\n",
        "*   Pra Pengolahan Data: Citra-citra dari dataset MNIST dilatih setelah diubah menjadi vektor 1D dan dinormalisasi agar berada dalam rentang 0 hingga 1.\n",
        "\n",
        "**Arsitektur ANN:**\n",
        "\n",
        "*   Hidden layer pertama memiliki 128 unit dengan aktivasi ReLU.\n",
        "\n",
        "*   Hidden layer kedua memiliki 64 unit dengan aktivasi ReLU.\n",
        "\n",
        "*   Output layer memiliki 10 unit (sesuai dengan jumlah kelas digit) dengan aktivasi softmax.\n",
        "\n",
        "*   Model menggunakan arsitektur ANN dengan tiga lapisan, yaitu satu lapisan input, dua lapisan tersembunyi, dan satu lapisan output.\n",
        "\n",
        "*   Input layer memiliki 784 unit (28x28 piksel) dan fungsi aktivasi ReLU.\n",
        "\n",
        "\n",
        "**Pelatihan Model:**\n",
        "\n",
        "*   Hasil: Model mencapai akurasi sekitar 97.56% pada data pengujian, yang menunjukkan kemampuan yang sangat baik dalam mengklasifikasikan digit-digit MNIST.\n",
        "\n",
        "\n",
        "*   Model dilatih selama 10 epoch dengan menggunakan optimizer 'adam', loss function 'sparse_categorical_crossentropy' (karena ini adalah masalah klasifikasi multikelas), dan metrik akurasi."
      ],
      "metadata": {
        "id": "Kjk3t05Hnww4"
      }
    }
  ]
}