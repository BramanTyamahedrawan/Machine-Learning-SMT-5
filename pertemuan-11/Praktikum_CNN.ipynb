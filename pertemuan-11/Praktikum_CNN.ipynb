{
  "nbformat": 4,
  "nbformat_minor": 0,
  "metadata": {
    "colab": {
      "provenance": [],
      "authorship_tag": "ABX9TyMnA7KpYaI3II74B8jSfrGW",
      "include_colab_link": true
    },
    "kernelspec": {
      "name": "python3",
      "display_name": "Python 3"
    },
    "language_info": {
      "name": "python"
    }
  },
  "cells": [
    {
      "cell_type": "markdown",
      "metadata": {
        "id": "view-in-github",
        "colab_type": "text"
      },
      "source": [
        "<a href=\"https://colab.research.google.com/github/BramanTyamahedrawan/Machine-Learning-SMT-5/blob/main/pertemuan-11/Praktikum_CNN.ipynb\" target=\"_parent\"><img src=\"https://colab.research.google.com/assets/colab-badge.svg\" alt=\"Open In Colab\"/></a>"
      ]
    },
    {
      "cell_type": "markdown",
      "source": [
        "**NAMA      : BRAMAN TYAMAHENDRAWAN**\n",
        "\n",
        "**KELAS     : TI-3C**\n",
        "\n",
        "**NIM       : 2141720097**"
      ],
      "metadata": {
        "id": "jdVZgUYJ_q4w"
      }
    },
    {
      "cell_type": "markdown",
      "source": [
        "# **Praktikum 1 - Pertemuan 11**"
      ],
      "metadata": {
        "id": "3u9dxDOj_4NH"
      }
    },
    {
      "cell_type": "code",
      "source": [
        "from google.colab import drive\n",
        "drive.mount('/content/drive')"
      ],
      "metadata": {
        "colab": {
          "base_uri": "https://localhost:8080/"
        },
        "id": "L3R4xqOc3z2O",
        "outputId": "7086a4d4-fa91-4dc6-ce0a-b35d9879cca2"
      },
      "execution_count": 1,
      "outputs": [
        {
          "output_type": "stream",
          "name": "stdout",
          "text": [
            "Mounted at /content/drive\n"
          ]
        }
      ]
    },
    {
      "cell_type": "markdown",
      "source": [
        "**Langkah 1 - Import Library**"
      ],
      "metadata": {
        "id": "FMdJl7oLAsYt"
      }
    },
    {
      "cell_type": "code",
      "execution_count": null,
      "metadata": {
        "id": "CgjLnpXW9I-5"
      },
      "outputs": [],
      "source": [
        "#Langkah 1 - Import Library\n",
        "import tensorflow as tf\n",
        "from keras.preprocessing.image import ImageDataGenerator"
      ]
    },
    {
      "cell_type": "markdown",
      "source": [
        "**Langkah 2 - Pra Pengolahan Data**"
      ],
      "metadata": {
        "id": "t-WYPm4rA3FN"
      }
    },
    {
      "cell_type": "markdown",
      "source": [
        "Pada tahap ini kita akan sedikit melakukan manipulasi pada citra yang digunakan. Manipulasi yang dilakukan diantaranya adalah normalisasi nilai piksel, koreksi kemiringan, pembesaran (zoom), dan flip."
      ],
      "metadata": {
        "id": "FYWe-dgjA5al"
      }
    },
    {
      "cell_type": "markdown",
      "source": [
        "Langkah 2.1 - Pra Pengolahan Data Training"
      ],
      "metadata": {
        "id": "jd-OrH0UA7PG"
      }
    },
    {
      "cell_type": "code",
      "source": [
        "# Langkah 2.1. Pra Pengolahan Data Training\n",
        "train_datagen = ImageDataGenerator(rescale = 1./255,\n",
        "                                   shear_range = 0.2,\n",
        "                                   zoom_range = 0.2,\n",
        "                                   horizontal_flip = True)\n",
        "training_set = train_datagen.flow_from_directory('/content/drive/MyDrive/Machine Learning-Semester 5/Praktikum11/dataset/training_set',\n",
        "                                                 target_size = (64, 64),\n",
        "                                                 batch_size = 32,\n",
        "                                                 class_mode = 'binary')"
      ],
      "metadata": {
        "id": "_S72C8a_A9pu"
      },
      "execution_count": null,
      "outputs": []
    },
    {
      "cell_type": "markdown",
      "source": [
        "Langkah 2.2 - Pra Pengolahan Data Training"
      ],
      "metadata": {
        "id": "8F9sGJNJ4cMS"
      }
    },
    {
      "cell_type": "code",
      "source": [
        "# Langkah 2.2. Pra Pengolahan Data Testing\n",
        "test_datagen = ImageDataGenerator(rescale = 1./255)\n",
        "test_set = test_datagen.flow_from_directory('/content/drive/MyDrive/Machine Learning-Semester 5/Praktikum11/dataset/test_set',\n",
        "                                            target_size = (64, 64),\n",
        "                                            batch_size = 32,\n",
        "                                            class_mode = 'binary')"
      ],
      "metadata": {
        "id": "QbL5i4RH4c7n"
      },
      "execution_count": null,
      "outputs": []
    },
    {
      "cell_type": "markdown",
      "source": [
        "**Langkah 3 - Pembuatan Model CNN**"
      ],
      "metadata": {
        "id": "uscefnpE4exY"
      }
    },
    {
      "cell_type": "markdown",
      "source": [
        "Contoh model CNN terkenal adalah arsitektur AlexNet, VGGNet, ResNet, Inception (GoogleNet), dan MobileNet. Model ini telah terbukti berhasil dalam berbagai tugas visi komputer dan sering digunakan sebagai dasar untuk pengembangan model khusus berdasarkan kebutuhan tertentu."
      ],
      "metadata": {
        "id": "XOIBauk95Npb"
      }
    },
    {
      "cell_type": "markdown",
      "source": [
        "Langkah 3.1 - Inisiasi Model CNN"
      ],
      "metadata": {
        "id": "SDDKbkPY5Ots"
      }
    },
    {
      "cell_type": "code",
      "source": [
        "# Langkah 3.1.  - Inisiasi Model CNN\n",
        "cnn = tf.keras.models.Sequential()"
      ],
      "metadata": {
        "id": "UGYKJXZL5J_m"
      },
      "execution_count": null,
      "outputs": []
    },
    {
      "cell_type": "markdown",
      "source": [
        "Langkah 3.2 - Pembuatan Layer Konvolusi 1"
      ],
      "metadata": {
        "id": "DXUKa2FB5R5c"
      }
    },
    {
      "cell_type": "code",
      "source": [
        "# Langkah 3.2. - Pembuatan Layer Konvolusi 1\n",
        "cnn.add(tf.keras.layers.Conv2D(filters=32, kernel_size=3, activation='relu', input_shape=[64, 64, 3]))"
      ],
      "metadata": {
        "id": "B04bJTYt5fWG"
      },
      "execution_count": null,
      "outputs": []
    },
    {
      "cell_type": "markdown",
      "source": [
        "Langkah 3.3 - Pembuatan Layer Pooling 1"
      ],
      "metadata": {
        "id": "jMOaUIw85gNm"
      }
    },
    {
      "cell_type": "code",
      "source": [
        "# Langkah 3.3 - Pembuatan Layer Pooling 1\n",
        "cnn.add(tf.keras.layers.MaxPool2D(pool_size=2, strides=2))"
      ],
      "metadata": {
        "id": "3sr0480h5hzu"
      },
      "execution_count": null,
      "outputs": []
    },
    {
      "cell_type": "markdown",
      "source": [
        "Langkah 3.4 - Pembuatan Layer Konvolusi 2 dan Pooling 2"
      ],
      "metadata": {
        "id": "0QIyvTI26Y2j"
      }
    },
    {
      "cell_type": "code",
      "source": [
        "# Langkah 3.4 - Pembuatan Layer Konvolusi 2 dan Pooling 2\n",
        "cnn.add(tf.keras.layers.Conv2D(filters=32, kernel_size=3, activation='relu'))\n",
        "cnn.add(tf.keras.layers.MaxPool2D(pool_size=2, strides=2))"
      ],
      "metadata": {
        "id": "OyrTxttK6aEk"
      },
      "execution_count": null,
      "outputs": []
    },
    {
      "cell_type": "markdown",
      "source": [
        "Langkah 3.5 - Flattening"
      ],
      "metadata": {
        "id": "Y-nBCUUm6bdM"
      }
    },
    {
      "cell_type": "code",
      "source": [
        "# Langkah 3.5 - Flattening\n",
        "cnn.add(tf.keras.layers.Flatten())"
      ],
      "metadata": {
        "id": "zIFWbl2H6c5X"
      },
      "execution_count": null,
      "outputs": []
    },
    {
      "cell_type": "markdown",
      "source": [
        "Langkah 3.6 - Fully Connected Layer 1 (Input)"
      ],
      "metadata": {
        "id": "_ojRtoy86ea0"
      }
    },
    {
      "cell_type": "code",
      "source": [
        "# Langkah 3.6 - Fully Connected Layer 1 (Input)\n",
        "cnn.add(tf.keras.layers.Dense(units=128, activation='relu'))"
      ],
      "metadata": {
        "id": "-ynvmzaR6fnd"
      },
      "execution_count": null,
      "outputs": []
    },
    {
      "cell_type": "markdown",
      "source": [
        "Langkah 3.7 - Fully Connected Layer 2 (Output)"
      ],
      "metadata": {
        "id": "RPt1Qpmu6hB9"
      }
    },
    {
      "cell_type": "code",
      "source": [
        "# Langkah 3.7 - Fully Connected Layer 2 (Output)\n",
        "cnn.add(tf.keras.layers.Dense(units=1, activation='sigmoid'))"
      ],
      "metadata": {
        "id": "X3i-55Jj6igO"
      },
      "execution_count": null,
      "outputs": []
    },
    {
      "cell_type": "markdown",
      "source": [
        "Langkah 3.8 - Compile Model CNN"
      ],
      "metadata": {
        "id": "0Acfij1f6kEf"
      }
    },
    {
      "cell_type": "code",
      "source": [
        "# Langkah 3.8 - Compile Model CNN\n",
        "cnn.compile(optimizer = 'adam', loss = 'binary_crossentropy', metrics = ['accuracy'])"
      ],
      "metadata": {
        "id": "zTZ-CeFh6lN8"
      },
      "execution_count": null,
      "outputs": []
    },
    {
      "cell_type": "markdown",
      "source": [
        "**Langkah 4 - Fit CNN**"
      ],
      "metadata": {
        "id": "xCRQUjhH6mq8"
      }
    },
    {
      "cell_type": "code",
      "source": [
        "# Langkah 4 - Fit CNN\n",
        "cnn.fit(x = training_set, validation_data = test_set, epochs = 25)"
      ],
      "metadata": {
        "id": "NlehReei6oFC"
      },
      "execution_count": null,
      "outputs": []
    },
    {
      "cell_type": "markdown",
      "source": [
        "**Langkah 5 - Prediksi dengan 1 Citra**"
      ],
      "metadata": {
        "id": "DlGSIEpG6pbG"
      }
    },
    {
      "cell_type": "code",
      "source": [
        "# Langkah 5 - Prediksi dengan 1 Citra\n",
        "import numpy as np\n",
        "from keras.preprocessing import image\n",
        "test_image = image.load_img('/content/drive/MyDrive/Machine Learning-Semester 5/Praktikum11/dataset/single_prediction/cat_or_dog_1.jpg', target_size = (64, 64))\n",
        "test_image = image.img_to_array(test_image)\n",
        "test_image = np.expand_dims(test_image, axis = 0)\n",
        "result = cnn.predict(test_image)\n",
        "training_set.class_indices\n",
        "if result[0][0] == 1:\n",
        "  prediction = 'dog'\n",
        "else:\n",
        "  prediction = 'cat'"
      ],
      "metadata": {
        "id": "pNbk_m576rVX"
      },
      "execution_count": null,
      "outputs": []
    },
    {
      "cell_type": "markdown",
      "source": [
        "# **Praktikum 2 - Pertemuan 11**"
      ],
      "metadata": {
        "id": "Vw8MQAPv6yPv"
      }
    },
    {
      "cell_type": "markdown",
      "source": [
        "**Langkah 1 - Load Library**"
      ],
      "metadata": {
        "id": "oI5_AfWs7BIJ"
      }
    },
    {
      "cell_type": "code",
      "source": [
        "#Langkah 1 - Load Library\n",
        "import tensorflow as tf\n",
        "\n",
        "from tensorflow.keras import datasets, layers, models\n",
        "import matplotlib.pyplot as plt"
      ],
      "metadata": {
        "id": "tAk6arix7EtR"
      },
      "execution_count": null,
      "outputs": []
    },
    {
      "cell_type": "markdown",
      "source": [
        "**Langkah 2 - Unduh Dataset CIFARl**"
      ],
      "metadata": {
        "id": "rebb79nc7FFo"
      }
    },
    {
      "cell_type": "code",
      "source": [
        "# Langkah 2 - Unduh Dataset CIFAR\n",
        "(train_images, train_labels), (test_images, test_labels) = datasets.cifar10.load_data()\n",
        "\n",
        "# Normalize pixel values to be between 0 and 1\n",
        "train_images, test_images = train_images / 255.0, test_images / 255.0"
      ],
      "metadata": {
        "id": "FK-hMY2p7JXA"
      },
      "execution_count": null,
      "outputs": []
    },
    {
      "cell_type": "markdown",
      "source": [
        "**Langkah 3 - Verifikasi Data**"
      ],
      "metadata": {
        "id": "FLaTLnRT7K2p"
      }
    },
    {
      "cell_type": "code",
      "source": [
        "# Langkah 3 - Verifikasi Data\n",
        "class_names = ['airplane', 'automobile', 'bird', 'cat', 'deer',\n",
        "               'dog', 'frog', 'horse', 'ship', 'truck']\n",
        "\n",
        "plt.figure(figsize=(10,10))\n",
        "for i in range(25):\n",
        "  plt.subplot(5,5,i+1)\n",
        "  plt.xticks([])\n",
        "  plt.yticks([])\n",
        "  plt.grid(False)\n",
        "  plt.imshow(train_images[i])\n",
        "  # The CIFAR labels happen to be arrays,\n",
        "  # which is why you need the extra index\n",
        "  plt.xlabel(class_names[train_labels[i][0]])\n",
        "plt.show()"
      ],
      "metadata": {
        "id": "ZWIdNDD17N2i"
      },
      "execution_count": null,
      "outputs": []
    },
    {
      "cell_type": "markdown",
      "source": [
        "**Langkah 4 - Buat Model CNN**"
      ],
      "metadata": {
        "id": "nFQo_ClU7PRa"
      }
    },
    {
      "cell_type": "markdown",
      "source": [
        "1. Layer Konvolusi (Convolutional Layer): Layer konvolusi adalah inti dari CNN. Pada layer ini, filter (juga disebut kernel) diterapkan pada input gambar untuk menghasilkan feature maps. Ini membantu model untuk mempelajari fitur-fitur lokal seperti tepi, sudut, atau tekstur.\n",
        "\n",
        "2. Layer ReLU (Rectified Linear Unit): Setelah operasi konvolusi, fungsi aktivasi ReLU sering digunakan untuk memperkenalkan non-linearitas ke dalam model. ReLU mengonversi nilai-nilai negatif menjadi nol dan membiarkan nilai-nilai positif tanpa perubahan.\n",
        "\n",
        "3. Layer Pooling (Pooling Layer): Layer pooling digunakan untuk mengurangi dimensi spatikal dari feature maps dan mengurangi jumlah parameter dalam model. Max pooling dan average pooling adalah dua jenis pooling yang umum digunakan.\n",
        "\n",
        "4. Layer Fully Connected (Fully Connected Layer): Setelah beberapa layer konvolusi dan pooling, feature maps diubah menjadi vektor dan diteruskan ke layer fully connected. Layer ini terhubung sepenuhnya ke setiap neuron dalam layer sebelumnya, dan biasanya diterapkan di akhir model untuk tugas-tugas seperti klasifikasi.\n",
        "\n",
        "5. Layer Normalisasi Batch (Batch Normalization Layer): Layer ini membantu meningkatkan kestabilan dan akselerasi konvergensi model dengan normalisasi nilai-nilai input ke setiap layer pada batch tertentu.\n",
        "\n",
        "6. Layer Dropout: Dropout adalah teknik regularisasi yang secara acak mengabaikan sebagian unit selama pelatihan untuk mencegah overfitting.\n",
        "\n",
        "6. Fungsi Aktivasi Terakhir: Fungsi aktivasi terakhir yang digunakan tergantung pada jenis tugas yang dihadapi. Misalnya, softmax sering digunakan untuk klasifikasi multikelas."
      ],
      "metadata": {
        "id": "F5CGHPmu7RqM"
      }
    },
    {
      "cell_type": "markdown",
      "source": [
        "Langkah 4.1 - Buat Layer Konvolusi"
      ],
      "metadata": {
        "id": "M_2USRcj7fPM"
      }
    },
    {
      "cell_type": "code",
      "source": [
        "# Langkah 4.1. - Buat Layer Konvolusi\n",
        "model = models.Sequential()\n",
        "model.add(layers.Conv2D(32, (3, 3), activation='relu', input_shape=(32, 32, 3)))\n",
        "model.add(layers.MaxPooling2D((2, 2)))\n",
        "model.add(layers.Conv2D(64, (3, 3), activation='relu'))\n",
        "model.add(layers.MaxPooling2D((2, 2)))\n",
        "model.add(layers.Conv2D(64, (3, 3), activation='relu'))"
      ],
      "metadata": {
        "id": "SWr3SQ-b7eXG"
      },
      "execution_count": null,
      "outputs": []
    },
    {
      "cell_type": "markdown",
      "source": [
        "Langkah 4.2 - Cek Arsitektur Konvolusi"
      ],
      "metadata": {
        "id": "u3qh_rev7iTL"
      }
    },
    {
      "cell_type": "code",
      "source": [
        "# Langkah 4.2. - Cek Arsitektur Konvolusi\n",
        "model.summary()"
      ],
      "metadata": {
        "id": "G0ENTt247l0X"
      },
      "execution_count": null,
      "outputs": []
    },
    {
      "cell_type": "markdown",
      "source": [
        "Langkah 4.3 - Tambahkan Layer Fully Connected"
      ],
      "metadata": {
        "id": "-wUG6qQp7m-s"
      }
    },
    {
      "cell_type": "code",
      "source": [
        "# Langkah 4.3. - Tambahkan Layer Fully Connected\n",
        "model.add(layers.Flatten())\n",
        "model.add(layers.Dense(64, activation='relu'))\n",
        "model.add(layers.Dense(10))"
      ],
      "metadata": {
        "id": "pgDUHgvU7o00"
      },
      "execution_count": null,
      "outputs": []
    },
    {
      "cell_type": "markdown",
      "source": [
        "Langkah 4.4 - Cek Arsitektur Model CNN"
      ],
      "metadata": {
        "id": "FCcBtLkc7qZ8"
      }
    },
    {
      "cell_type": "code",
      "source": [
        "# Langkah 4.4. - Cek Arsitektur Model CNN\n",
        "model.summary()"
      ],
      "metadata": {
        "id": "fHJLRc297rj9"
      },
      "execution_count": null,
      "outputs": []
    },
    {
      "cell_type": "markdown",
      "source": [
        "Langkah 4.5 - Compile Model CNN"
      ],
      "metadata": {
        "id": "fQKJDb6e7syP"
      }
    },
    {
      "cell_type": "code",
      "source": [
        "# Langkah 4.5. - Compile Model CNN\n",
        "model.compile(optimizer='adam',\n",
        "              loss=tf.keras.losses.SparseCategoricalCrossentropy(from_logits=True),\n",
        "              metrics=['accuracy'])"
      ],
      "metadata": {
        "id": "3STokucr7t_f"
      },
      "execution_count": null,
      "outputs": []
    },
    {
      "cell_type": "markdown",
      "source": [
        "**Langkah 5 - Fit Model**"
      ],
      "metadata": {
        "id": "oJawPWkH7vEZ"
      }
    },
    {
      "cell_type": "code",
      "source": [
        "# Langkah 5 - Fit Model\n",
        "history = model.fit(train_images, train_labels, epochs=10,\n",
        "                    validation_data=(test_images, test_labels))"
      ],
      "metadata": {
        "id": "dcmP8W5l7wuk"
      },
      "execution_count": null,
      "outputs": []
    },
    {
      "cell_type": "markdown",
      "source": [
        "**Langkah 6 - Evaluasi Model**"
      ],
      "metadata": {
        "id": "heb5lGc_7x-V"
      }
    },
    {
      "cell_type": "code",
      "source": [
        "#Langkah 6 - Evaluasi Model\n",
        "plt.plot(history.history['accuracy'], label='accuracy')\n",
        "plt.plot(history.history['val_accuracy'], label = 'val_accuracy')\n",
        "plt.xlabel('Epoch')\n",
        "plt.ylabel('Accuracy')\n",
        "plt.ylim([0.5, 1])\n",
        "plt.legend(loc='lower right')\n",
        "\n",
        "test_loss, test_acc = model.evaluate(test_images, test_labels, verbose=2)"
      ],
      "metadata": {
        "id": "2q8Bs1mz7zpm"
      },
      "execution_count": null,
      "outputs": []
    },
    {
      "cell_type": "markdown",
      "source": [
        "**Langkah 7 - Cetak Hasil Akurasi**"
      ],
      "metadata": {
        "id": "JQSi5e0r73Lm"
      }
    },
    {
      "cell_type": "code",
      "source": [
        "# Langkah 7 - Cetak Hasil Akurasi\n",
        "print(test_acc)"
      ],
      "metadata": {
        "id": "G9BCyMzU75R-"
      },
      "execution_count": null,
      "outputs": []
    }
  ]
}