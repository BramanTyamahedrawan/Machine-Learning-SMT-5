{
  "nbformat": 4,
  "nbformat_minor": 0,
  "metadata": {
    "colab": {
      "provenance": [],
      "authorship_tag": "ABX9TyP5LSv/0a2BamqpPC6xhyaK",
      "include_colab_link": true
    },
    "kernelspec": {
      "name": "python3",
      "display_name": "Python 3"
    },
    "language_info": {
      "name": "python"
    }
  },
  "cells": [
    {
      "cell_type": "markdown",
      "metadata": {
        "id": "view-in-github",
        "colab_type": "text"
      },
      "source": [
        "<a href=\"https://colab.research.google.com/github/BramanTyamahedrawan/Machine-Learning-SMT-5/blob/main/pertemuan-11/Tugas_Praktikum_CNN.ipynb\" target=\"_parent\"><img src=\"https://colab.research.google.com/assets/colab-badge.svg\" alt=\"Open In Colab\"/></a>"
      ]
    },
    {
      "cell_type": "markdown",
      "source": [
        "# **Tugas Praktikum CNN - Pertemuan 11**"
      ],
      "metadata": {
        "id": "4jLwwepG8l-L"
      }
    },
    {
      "cell_type": "markdown",
      "source": [
        "**KELOMPOK 2**\n",
        "\n",
        "1. Braman Tyamahendrawan (04)\n",
        "2. Dimas Putra Anhar W.A. (05)\n",
        "3. Fikril Hadad Ramadhani (07)\n",
        "4. Muhammad Maulana Givari (18)\n",
        "5. Muhammad Sabilar Rosyad (19)\n",
        "6. Satria Yudhistira Yudha P. (26)"
      ],
      "metadata": {
        "id": "ckO425jA8qkC"
      }
    },
    {
      "cell_type": "markdown",
      "source": [
        "**Modifikasi model CNN pada praktikum 2 sehingga didapatkan akurasi testing lebih dari 80%**"
      ],
      "metadata": {
        "id": "QgJx6GFx9Txo"
      }
    },
    {
      "cell_type": "code",
      "source": [
        "# Import Library\n",
        "import tensorflow as tf\n",
        "from tensorflow.keras import datasets, layers, models\n",
        "import matplotlib.pyplot as plt\n",
        "\n",
        "(train_images, train_labels), (test_images, test_labels) = datasets.cifar10.load_data()\n",
        "train_images, test_images = train_images / 255.0, test_images / 255.0\n",
        "# Dataset diunduh menggunakan datasets.cifar10.load_data(). Dataset ini berisi gambar objek dalam 10 kategori yang berbeda.\n",
        "\n",
        "class_names = ['airplane', 'automobile', 'bird', 'cat', 'deer',\n",
        "               'dog', 'frog', 'horse', 'ship', 'truck']\n",
        "plt.figure(figsize=(10, 10))\n",
        "for i in range(25):\n",
        "    plt.subplot(5, 5, i + 1)\n",
        "    plt.xticks([])\n",
        "    plt.yticks([])\n",
        "    plt.grid(False)\n",
        "    plt.imshow(train_images[i])\n",
        "    plt.xlabel(class_names[train_labels[i][0]])\n",
        "plt.show()\n",
        "# Gambar-gambar dari dataset ditampilkan untuk verifikasi visual. Ini membantu memastikan bahwa data telah diunduh dan dinormalisasi dengan benar.\n",
        "\n",
        "model = models.Sequential()\n",
        "model.add(layers.Conv2D(32, (3, 3), activation='relu', input_shape=(32, 32, 3)))\n",
        "model.add(layers.MaxPooling2D((2, 2)))\n",
        "model.add(layers.Conv2D(64, (3, 3), activation='relu'))\n",
        "model.add(layers.MaxPooling2D((2, 2)))\n",
        "model.add(layers.Conv2D(64, (3, 3), activation='relu'))\n",
        "model.add(layers.Flatten())\n",
        "model.add(layers.Dense(64, activation='relu'))\n",
        "model.add(layers.Dense(10))\n",
        "# Model CNN untuk klasifikasi CIFAR-10 dibuat.\n",
        "\n",
        "model.compile(optimizer='adam',\n",
        "              loss=tf.keras.losses.SparseCategoricalCrossentropy(from_logits=True),\n",
        "              metrics=['accuracy'])\n",
        "# Model dikompilasi dengan optimizer 'adam', menggunakan fungsi loss 'SparseCategoricalCrossentropy' karena labelnya dalam bentuk integer, dan mengukur metrik 'accuracy'.\n",
        "\n",
        "history = model.fit(train_images, train_labels, epochs=10,\n",
        "                    validation_data=(test_images, test_labels))\n",
        "# Model dilatih (fit) menggunakan data pelatihan selama 10 epoch, dengan validasi menggunakan data pengujian.\n",
        "\n",
        "test_loss, test_acc = model.evaluate(test_images, test_labels, verbose=2)\n",
        "# Model dievaluasi menggunakan data pengujian, dan hasil loss serta akurasi disimpan dalam variabel test_loss dan test_acc.\n",
        "\n",
        "print(test_acc)\n",
        "# Hasil akurasi pada dataset pengujian dicetak."
      ],
      "metadata": {
        "id": "_LpUw4qs9fWo"
      },
      "execution_count": null,
      "outputs": []
    },
    {
      "cell_type": "markdown",
      "source": [
        "**Buatlah model CNN untuk klasifikasi dataset MNIST**"
      ],
      "metadata": {
        "id": "GhW0uwLq9RZf"
      }
    },
    {
      "cell_type": "code",
      "source": [
        "# Langkah 1 - Import Library\n",
        "import tensorflow as tf\n",
        "from tensorflow.keras import datasets, layers, models\n",
        "import matplotlib.pyplot as plt\n",
        "\n",
        "# Langkah 2 - Unduh Dataset MNIST\n",
        "(train_images, train_labels), (test_images, test_labels) = datasets.mnist.load_data()\n",
        "\n",
        "# Normalize pixel values to be between 0 and 1\n",
        "train_images, test_images = train_images / 255.0, test_images / 255.0\n",
        "\n",
        "# Dataset MNIST diunduh menggunakan datasets.mnist.load_data(). Dataset ini berisi gambar angka tulisan tangan dari 0 hingga 9.\n",
        "\n",
        "# Langkah 3 - Buat Model CNN untuk MNIST\n",
        "model = models.Sequential()\n",
        "model.add(layers.Conv2D(32, (3, 3), activation='relu', input_shape=(28, 28, 1)))\n",
        "model.add(layers.MaxPooling2D((2, 2)))\n",
        "model.add(layers.Conv2D(64, (3, 3), activation='relu'))\n",
        "model.add(layers.MaxPooling2D((2, 2)))\n",
        "model.add(layers.Conv2D(64, (3, 3), activation='relu'))\n",
        "\n",
        "model.add(layers.Flatten())\n",
        "model.add(layers.Dense(64, activation='relu'))\n",
        "model.add(layers.Dense(10, activation='softmax'))\n",
        "\n",
        "# Model CNN untuk MNIST dibuat. Perbedaan ukuran input_shape disesuaikan dengan ukuran gambar MNIST (28x28 piksel dengan 1 saluran warna).\n",
        "\n",
        "# Langkah 4 - Compile Model CNN\n",
        "model.compile(optimizer='adam',\n",
        "              loss='sparse_categorical_crossentropy',\n",
        "              metrics=['accuracy'])\n",
        "\n",
        "# Model dikompilasi menggunakan optimizer 'adam', loss function 'sparse_categorical_crossentropy', dan metrik 'accuracy'.\n",
        "\n",
        "# Langkah 5 - Fit Model\n",
        "history = model.fit(train_images, train_labels, epochs=10,\n",
        "                    validation_data=(test_images, test_labels))\n",
        "\n",
        "# Model dilatih (fit) menggunakan data pelatihan (train_images dan train_labels) selama 10 epoch, dengan validasi menggunakan data pengujian (test_images dan test_labels).\n",
        "\n",
        "# Langkah 6 - Evaluasi Model\n",
        "test_loss, test_acc = model.evaluate(test_images, test_labels, verbose=2)\n",
        "\n",
        "# Model dievaluasi menggunakan data pengujian, dan hasil loss serta akurasi disimpan dalam variabel test_loss dan test_acc.\n",
        "\n",
        "# Langkah 7 - Cetak Hasil Akurasi\n",
        "print(test_acc)\n",
        "\n",
        "# Hasil akurasi pada dataset pengujian dicetak."
      ],
      "metadata": {
        "id": "VZ31nNJY9S4P"
      },
      "execution_count": null,
      "outputs": []
    }
  ]
}